{
 "cells": [
  {
   "cell_type": "code",
   "execution_count": null,
   "metadata": {
    "vscode": {
     "languageId": "plaintext"
    }
   },
   "outputs": [],
   "source": [
    "#Convert CSV to JSON\n",
    "import csv\n",
    "import json\n",
    "\n",
    "\n",
    "def csv_to_json(csv_file, json_file):\n",
    " \"\"\"Converts a CSV file to a JSON file.\n",
    "\n",
    "\n",
    " Args:\n",
    "   csv_file: The path to the CSV file.\n",
    "   json_file: The path to the output JSON file.\n",
    " \"\"\"\n",
    "\n",
    "\n",
    " data = []\n",
    " with open(csv_file, 'r') as csvfile:\n",
    "   csvreader = csv.DictReader(csvfile)\n",
    "   for row in csvreader:\n",
    "     data.append(dict(row))\n",
    "\n",
    "\n",
    " with open(json_file, 'w') as jsonfile:\n",
    "   json.dump(data, jsonfile, indent=4)\n",
    "\n",
    "\n",
    "\n",
    "\n",
    "# Example usage\n",
    "csv_file = 'DMi EA Prompts - Explore Assistant Order Details - Cleansed.csv'\n",
    "json_file = 'dmi_examples.json'\n",
    "csv_to_json(csv_file, json_file)\n",
    "print(f\"CSV converted to JSON: {json_file}\")"
   ]
  }
 ],
 "metadata": {
  "language_info": {
   "name": "python"
  }
 },
 "nbformat": 4,
 "nbformat_minor": 2
}
